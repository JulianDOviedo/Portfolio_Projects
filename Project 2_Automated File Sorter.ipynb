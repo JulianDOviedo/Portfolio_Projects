{
 "cells": [
  {
   "cell_type": "markdown",
   "id": "02e48cf0",
   "metadata": {},
   "source": [
    "# Automated File Sorter in File Explorer"
   ]
  },
  {
   "cell_type": "code",
   "execution_count": 7,
   "id": "9078d2bd",
   "metadata": {},
   "outputs": [],
   "source": [
    "import os, shutil # Allows us to do high/level operations in File Explorer. "
   ]
  },
  {
   "cell_type": "code",
   "execution_count": 8,
   "id": "8de000fd",
   "metadata": {},
   "outputs": [],
   "source": [
    "path = r\"C:/Users/julia/OneDrive/Documents/Data Analyst/Bootcamp Alex Freberg/5_Python/TestAutomFile/\" # Create path where the files are located."
   ]
  },
  {
   "cell_type": "code",
   "execution_count": 9,
   "id": "cc112ad1",
   "metadata": {},
   "outputs": [],
   "source": [
    "file_name = os.listdir(path) # Shows all the file names in the path."
   ]
  },
  {
   "cell_type": "code",
   "execution_count": 12,
   "id": "4a917d29",
   "metadata": {},
   "outputs": [],
   "source": [
    "# Create the folders, check the elements and identify the kind of file, and put them into the correct folder.\n",
    "folder_names = ['csv files', 'image files', 'text files'] # Create the folder names.\n",
    "\n",
    "\n",
    "for loop in range(0,3): # This range because of the 3 elements in folder_names.\n",
    "    if not os.path.exists(path + folder_names[loop]): # Check if the folder already exists, and if it does not...\n",
    "        os.makedirs(path + folder_names[loop]) # It should create it.\n",
    "        \n",
    "        \n",
    "for file in file_name: # Now we read all the files and send them to their corresponding folder.      \n",
    "    if \".csv\" in file and not os.path.exists(path + \"csv files/\" + file): # If the file is not already on the folder,.. \n",
    "        shutil.move(path + file, path + \"csv files/\" + file) # It is moved from where it is in the path to the new corresponding folder.\n",
    "    elif \".jpg\" in file and not os.path.exists(path + \"image files/\" + file):\n",
    "        shutil.move(path + file, path + \"image files/\" + file)\n",
    "    elif \".txt\" in file and not os.path.exists(path + \"text files/\" + file):\n",
    "        shutil.move(path + file, path + \"text files/\" + file)  \n",
    "        "
   ]
  },
  {
   "cell_type": "code",
   "execution_count": null,
   "id": "eeb32e4d",
   "metadata": {},
   "outputs": [],
   "source": []
  }
 ],
 "metadata": {
  "kernelspec": {
   "display_name": "Python 3 (ipykernel)",
   "language": "python",
   "name": "python3"
  },
  "language_info": {
   "codemirror_mode": {
    "name": "ipython",
    "version": 3
   },
   "file_extension": ".py",
   "mimetype": "text/x-python",
   "name": "python",
   "nbconvert_exporter": "python",
   "pygments_lexer": "ipython3",
   "version": "3.11.3"
  }
 },
 "nbformat": 4,
 "nbformat_minor": 5
}
