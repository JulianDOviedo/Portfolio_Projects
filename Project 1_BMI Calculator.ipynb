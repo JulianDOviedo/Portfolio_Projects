{
 "cells": [
  {
   "cell_type": "markdown",
   "id": "775d7e15",
   "metadata": {},
   "source": [
    "# BMI Calculator"
   ]
  },
  {
   "cell_type": "code",
   "execution_count": 11,
   "id": "31118830",
   "metadata": {},
   "outputs": [
    {
     "name": "stdout",
     "output_type": "stream",
     "text": [
      "Enter your name: Julz\n",
      "Enter your weight in pounds: 155\n",
      "Enter your height in inches: 69\n",
      "22.886998529720646\n",
      "Julz, you are in normal weight.\n"
     ]
    }
   ],
   "source": [
    "# We need to calculate Weight and Height in order to run the calculation for the BMI index\n",
    "\n",
    "name = input(\"Enter your name: \")\n",
    "\n",
    "weight = int(input(\"Enter your weight in pounds: \"))\n",
    "\n",
    "height = int(input(\"Enter your height in inches: \"))\n",
    "\n",
    "BMI = (weight * 703) / (height * height)\n",
    "\n",
    "print(BMI)\n",
    "\n",
    "\n",
    "# Now we create a range for telling the user the status\n",
    "\n",
    "\n",
    "if BMI > 0:\n",
    "    if BMI < 18.5:\n",
    "        print(name + \", you are underweight.\")\n",
    "    elif BMI < 24.9:\n",
    "        print(name + \", you are in normal weight.\")\n",
    "    elif BMI < 29.9:\n",
    "        print(name + \", you are in overweight.\")\n",
    "    elif BMI < 34.9:\n",
    "        print(name + \", you are in obese.\")\n",
    "    elif BMI < 39.9:\n",
    "        print(name + \", you are in normal weight.\")\n",
    "else:\n",
    "    print(\"Enter a valid input.\")"
   ]
  },
  {
   "cell_type": "code",
   "execution_count": null,
   "id": "a5bffeee",
   "metadata": {},
   "outputs": [],
   "source": []
  }
 ],
 "metadata": {
  "kernelspec": {
   "display_name": "Python 3 (ipykernel)",
   "language": "python",
   "name": "python3"
  },
  "language_info": {
   "codemirror_mode": {
    "name": "ipython",
    "version": 3
   },
   "file_extension": ".py",
   "mimetype": "text/x-python",
   "name": "python",
   "nbconvert_exporter": "python",
   "pygments_lexer": "ipython3",
   "version": "3.11.3"
  }
 },
 "nbformat": 4,
 "nbformat_minor": 5
}
